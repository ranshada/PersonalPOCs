{
 "cells": [
  {
   "cell_type": "code",
   "execution_count": 10,
   "id": "724800c3",
   "metadata": {},
   "outputs": [
    {
     "name": "stdout",
     "output_type": "stream",
     "text": [
      "Hello World\n"
     ]
    }
   ],
   "source": [
    "print('Hello', end=' ')\n",
    "print('World')"
   ]
  },
  {
   "cell_type": "code",
   "execution_count": 2,
   "id": "5186b257",
   "metadata": {},
   "outputs": [
    {
     "name": "stdout",
     "output_type": "stream",
     "text": [
      "You entered:  ['ranjith', 'rachana']\n",
      "Your family names are:  ['ranjith', 'rachana']\n"
     ]
    }
   ],
   "source": [
    "my_family_names=[]\n",
    "\n",
    "name=input('Enter Names with space delimiter (or type \"exit\" to finish): ')\n",
    "names=name.split(' ')\n",
    "print('You entered: ', names)\n",
    "for name in names:\n",
    "    if name.lower() == 'exit':\n",
    "        break\n",
    "    my_family_names.append(name)\n",
    "\n",
    "print('Your family names are: ', my_family_names)"
   ]
  },
  {
   "cell_type": "code",
   "execution_count": 17,
   "id": "7b9c53e4",
   "metadata": {},
   "outputs": [
    {
     "name": "stdout",
     "output_type": "stream",
     "text": [
      "Index :  0 ,  Value: ranjith\n",
      "Index :  1 ,  Value: karthik\n",
      "Index :  2 ,  Value: siva\n",
      "Index :  3 ,  Value: sai\n",
      "karthik\n",
      "siva\n",
      "sai\n",
      "sai\n",
      "siva\n",
      "sai\n"
     ]
    }
   ],
   "source": [
    "import random\n",
    "\n",
    "mylist=['ranjith', 'karthik', 'siva', 'sai']\n",
    "for index, value in enumerate(mylist):\n",
    "    print(f'Index :  {index} ,  Value: {value}')\n",
    "print(random.choice(mylist))\n",
    "print(random.choice(mylist))\n",
    "print(random.choice(mylist))\n",
    "print(random.choice(mylist))\n",
    "print(random.choice(mylist))\n",
    "print(random.choice(mylist))"
   ]
  },
  {
   "cell_type": "code",
   "execution_count": null,
   "id": "0daaf0f0",
   "metadata": {},
   "outputs": [],
   "source": []
  },
  {
   "cell_type": "code",
   "execution_count": 19,
   "id": "09036b59",
   "metadata": {},
   "outputs": [
    {
     "name": "stdout",
     "output_type": "stream",
     "text": [
      "Zophie and it is : cat\n"
     ]
    }
   ],
   "source": [
    "name = 'Zophie a cat'\n",
    "print(f'{name[0: 6]} and it is : {name[9:12]}')\n"
   ]
  },
  {
   "cell_type": "code",
   "execution_count": null,
   "id": "48ef4d10",
   "metadata": {},
   "outputs": [
    {
     "name": "stdout",
     "output_type": "stream",
     "text": [
      "<class 'pandas.core.frame.DataFrame'>\n",
      "RangeIndex: 4 entries, 0 to 3\n",
      "Data columns (total 4 columns):\n",
      " #   Column      Non-Null Count  Dtype  \n",
      "---  ------      --------------  -----  \n",
      " 0   ID          4 non-null      int64  \n",
      " 1   NAME        3 non-null      object \n",
      " 2   DEPARTMENT  3 non-null      object \n",
      " 3   SALARY      3 non-null      float64\n",
      "dtypes: float64(1), int64(1), object(2)\n",
      "memory usage: 260.0+ bytes\n",
      "None\n",
      "             ID   SALARY\n",
      "count  4.000000      3.0\n",
      "mean   2.500000  68000.0\n",
      "std    1.290994      0.0\n",
      "min    1.000000  68000.0\n",
      "25%    1.750000  68000.0\n",
      "50%    2.500000  68000.0\n",
      "75%    3.250000  68000.0\n",
      "max    4.000000  68000.0\n",
      "(4, 4)\n"
     ]
    }
   ],
   "source": [
    "import pandas as pd\n",
    "\n",
    "df=pd.read_csv('../employees.csv', sep='|', na_values=['NA', 'N/A', 'None', ''])\n",
    "#df.dropna()\n",
    "df1=df.dropna(axis=0, how='any')\n",
    "print(df.info())\n",
    "print(df.describe())\n",
    "print(df.shape)\n",
    "\n"
   ]
  },
  {
   "cell_type": "code",
   "execution_count": 48,
   "id": "66131d78",
   "metadata": {},
   "outputs": [
    {
     "name": "stdout",
     "output_type": "stream",
     "text": [
      "    ID        NAME   DEPARTMENT   SALARY\n",
      "0  1.0  John Smith  Engineering  68000.0\n",
      "1  2.0    Sara Lee    Marketing  68000.0\n",
      "2  3.0  David Chen        Sales  68000.0\n",
      "3  NaN         NaN          NaN      NaN\n",
      "<class 'pandas.core.series.Series'>\n"
     ]
    }
   ],
   "source": [
    "import pandas as pd\n",
    "\n",
    "df=pd.read_csv('../employees.csv', sep='|', na_values=['NA', 'N/A', 'None', ''])\n",
    "print(df)\n",
    "salaries=df['SALARY']\n",
    "print(type(salaries.value_counts()))"
   ]
  },
  {
   "cell_type": "code",
   "execution_count": 71,
   "id": "28bc5f64",
   "metadata": {},
   "outputs": [
    {
     "name": "stdout",
     "output_type": "stream",
     "text": [
      "    PassengerId  Survived  Pclass  \\\n",
      "10           11         1       3   \n",
      "12           13         0       3   \n",
      "23           24         1       1   \n",
      "31           32         1       1   \n",
      "48           49         0       3   \n",
      "\n",
      "                                              Name     Sex   Age  SibSp  \\\n",
      "10                 Sandstrom, Miss. Marguerite Rut  female   4.0      1   \n",
      "12                  Saundercock, Mr. William Henry    male  20.0      0   \n",
      "23                    Sloper, Mr. William Thompson    male  28.0      0   \n",
      "31  Spencer, Mrs. William Augustus (Marie Eugenie)  female   NaN      1   \n",
      "48                             Samaan, Mr. Youssef    male   NaN      2   \n",
      "\n",
      "    Parch     Ticket      Fare Cabin Embarked  \n",
      "10      1    PP 9549   16.7000    G6        S  \n",
      "12      0  A/5. 2151    8.0500   NaN        S  \n",
      "23      0     113788   35.5000    A6        S  \n",
      "31      0   PC 17569  146.5208   B78        C  \n",
      "48      0       2662   21.6792   NaN        C  \n",
      "PassengerId    86\n",
      "Survived       86\n",
      "Pclass         86\n",
      "Name           86\n",
      "Sex            86\n",
      "Age            61\n",
      "SibSp          86\n",
      "Parch          86\n",
      "Ticket         86\n",
      "Fare           86\n",
      "Cabin          23\n",
      "Embarked       85\n",
      "dtype: int64\n"
     ]
    }
   ],
   "source": [
    "import pandas as pd\n",
    "\n",
    "df=pd.read_csv('../titanic.csv', sep=',', na_values=['NA', 'N/A', 'None', ''])\n",
    "\n",
    "#print(df.head())\n",
    "#print(df.describe())\n",
    "\n",
    "#adults=df[df['Age']> 50]\n",
    "#print(adults.head())\n",
    "#print((adults.describe()))\n",
    "#male=df[ (df['Sex']=='male') | (df['Pclass']==1) ]\n",
    "#print(male.head())\n",
    "#print(male.count())\n",
    "#print(type(adults.describe().count))\n",
    "\n",
    "startsWithS=df[df['Name'].str.startswith('S')]\n",
    "\n",
    "print(startsWithS.head())\n",
    "print(startsWithS.count())\n",
    "\n"
   ]
  },
  {
   "cell_type": "code",
   "execution_count": 79,
   "id": "68847181",
   "metadata": {},
   "outputs": [
    {
     "name": "stdout",
     "output_type": "stream",
     "text": [
      "     PassengerId  Survived  Pclass                                      Name  \\\n",
      "630          631         1       1      Barkworth, Mr. Algernon Henry Wilson   \n",
      "851          852         0       3                       Svensson, Mr. Johan   \n",
      "493          494         0       1                   Artagaveytia, Mr. Ramon   \n",
      "96            97         0       1                 Goldschmidt, Mr. George B   \n",
      "116          117         0       3                      Connors, Mr. Patrick   \n",
      "..           ...       ...     ...                                       ...   \n",
      "859          860         0       3                          Razi, Mr. Raihed   \n",
      "863          864         0       3         Sage, Miss. Dorothy Edith \"Dolly\"   \n",
      "868          869         0       3               van Melkebeke, Mr. Philemon   \n",
      "878          879         0       3                        Laleff, Mr. Kristo   \n",
      "888          889         0       3  Johnston, Miss. Catherine Helen \"Carrie\"   \n",
      "\n",
      "        Sex   Age  SibSp  Parch      Ticket     Fare Cabin Embarked  \n",
      "630    male  80.0      0      0       27042  30.0000   A23        S  \n",
      "851    male  74.0      0      0      347060   7.7750   NaN        S  \n",
      "493    male  71.0      0      0    PC 17609  49.5042   NaN        C  \n",
      "96     male  71.0      0      0    PC 17754  34.6542    A5        C  \n",
      "116    male  70.5      0      0      370369   7.7500   NaN        Q  \n",
      "..      ...   ...    ...    ...         ...      ...   ...      ...  \n",
      "859    male   NaN      0      0        2629   7.2292   NaN        C  \n",
      "863  female   NaN      8      2    CA. 2343  69.5500   NaN        S  \n",
      "868    male   NaN      0      0      345777   9.5000   NaN        S  \n",
      "878    male   NaN      0      0      349217   7.8958   NaN        S  \n",
      "888  female   NaN      1      2  W./C. 6607  23.4500   NaN        S  \n",
      "\n",
      "[891 rows x 12 columns]\n"
     ]
    }
   ],
   "source": [
    "import pandas as pd\n",
    "\n",
    "df=pd.read_csv('../titanic.csv', sep=',', na_values=['NA', 'N/A', 'None', ''])\n",
    "\n",
    "sorted_df=df.sort_values(by=['Age'], ascending=[False])\n",
    "print(sorted_df)"
   ]
  },
  {
   "cell_type": "code",
   "execution_count": 86,
   "id": "9fe78c02",
   "metadata": {},
   "outputs": [
    {
     "name": "stdout",
     "output_type": "stream",
     "text": [
      "      PassengerId  Survived  Pclass                                      Name  \\\n",
      "Age                                                                             \n",
      "80.0          631         1       1      Barkworth, Mr. Algernon Henry Wilson   \n",
      "74.0          852         0       3                       Svensson, Mr. Johan   \n",
      "71.0          494         0       1                   Artagaveytia, Mr. Ramon   \n",
      "71.0           97         0       1                 Goldschmidt, Mr. George B   \n",
      "70.5          117         0       3                      Connors, Mr. Patrick   \n",
      "...           ...       ...     ...                                       ...   \n",
      "NaN           860         0       3                          Razi, Mr. Raihed   \n",
      "NaN           864         0       3         Sage, Miss. Dorothy Edith \"Dolly\"   \n",
      "NaN           869         0       3               van Melkebeke, Mr. Philemon   \n",
      "NaN           879         0       3                        Laleff, Mr. Kristo   \n",
      "NaN           889         0       3  Johnston, Miss. Catherine Helen \"Carrie\"   \n",
      "\n",
      "         Sex  SibSp  Parch      Ticket     Fare Cabin Embarked  \n",
      "Age                                                             \n",
      "80.0    male      0      0       27042  30.0000   A23        S  \n",
      "74.0    male      0      0      347060   7.7750   NaN        S  \n",
      "71.0    male      0      0    PC 17609  49.5042   NaN        C  \n",
      "71.0    male      0      0    PC 17754  34.6542    A5        C  \n",
      "70.5    male      0      0      370369   7.7500   NaN        Q  \n",
      "...      ...    ...    ...         ...      ...   ...      ...  \n",
      "NaN     male      0      0        2629   7.2292   NaN        C  \n",
      "NaN   female      8      2    CA. 2343  69.5500   NaN        S  \n",
      "NaN     male      0      0      345777   9.5000   NaN        S  \n",
      "NaN     male      0      0      349217   7.8958   NaN        S  \n",
      "NaN   female      1      2  W./C. 6607  23.4500   NaN        S  \n",
      "\n",
      "[891 rows x 11 columns]\n"
     ]
    }
   ],
   "source": [
    "import pandas as pd\n",
    "\n",
    "df=pd.read_csv('../titanic.csv', sep=',', na_values=['NA', 'N/A', 'None', ''])\n",
    "df=df.set_index('Age')\n",
    "\n",
    "sorted_df=df.sort_index(ascending=False)\n",
    "print(sorted_df)"
   ]
  },
  {
   "cell_type": "code",
   "execution_count": 132,
   "id": "b59584f9",
   "metadata": {},
   "outputs": [
    {
     "name": "stdout",
     "output_type": "stream",
     "text": [
      "<class 'pandas.core.frame.DataFrame'>\n",
      "RangeIndex: 891 entries, 0 to 890\n",
      "Data columns (total 12 columns):\n",
      " #   Column       Non-Null Count  Dtype  \n",
      "---  ------       --------------  -----  \n",
      " 0   PassengerId  891 non-null    int64  \n",
      " 1   Survived     891 non-null    int64  \n",
      " 2   Pclass       891 non-null    int64  \n",
      " 3   Name         891 non-null    object \n",
      " 4   Sex          891 non-null    object \n",
      " 5   Age          714 non-null    float64\n",
      " 6   SibSp        891 non-null    int64  \n",
      " 7   Parch        891 non-null    int64  \n",
      " 8   Ticket       891 non-null    object \n",
      " 9   Fare         891 non-null    float64\n",
      " 10  Cabin        204 non-null    object \n",
      " 11  Embarked     889 non-null    object \n",
      "dtypes: float64(2), int64(5), object(5)\n",
      "memory usage: 83.7+ KB\n",
      "None\n"
     ]
    }
   ],
   "source": [
    "import pandas as pd\n",
    "\n",
    "df=pd.read_csv('../titanic.csv', sep=',', na_values=['NA', 'N/A', 'None', ''])\n",
    "#print(df.isnull().sum())\n",
    "#\n",
    "print(df.info())\n",
    "#print(mean)\n",
    "#greater_than10=df[df['']]"
   ]
  },
  {
   "cell_type": "code",
   "execution_count": 112,
   "id": "2a2b3afe",
   "metadata": {},
   "outputs": [
    {
     "name": "stdout",
     "output_type": "stream",
     "text": [
      "Task: Find Premium customers in North region with Quantity > 5\n",
      "      Order_id       Date     Product     Category Region Customer_Type  \\\n",
      "13   Ord_00014 2025-08-13    Keyboard  Accessories  North       Premium   \n",
      "64   Ord_00065 2023-12-04    Keyboard  Electronics  North       Premium   \n",
      "98   Ord_00099 2024-11-14       Mouse        Audio  North       Premium   \n",
      "116  Ord_00117 2025-10-17     Monitor  Accessories  North       Premium   \n",
      "181  Ord_00182 2023-05-31       Mouse        Audio  North       Premium   \n",
      "241  Ord_00242 2023-01-17     Speaker        Audio  North       Premium   \n",
      "252  Ord_00253 2024-08-29     Monitor        Audio  North       Premium   \n",
      "307  Ord_00308 2023-01-05      Tablet  Accessories  North       Premium   \n",
      "332  Ord_00333 2024-07-13     Monitor  Electronics  North       Premium   \n",
      "356  Ord_00357 2023-12-23      Laptop  Electronics  North       Premium   \n",
      "363  Ord_00364 2025-10-12      Tablet        Audio  North       Premium   \n",
      "424  Ord_00425 2024-03-30      Tablet  Electronics  North       Premium   \n",
      "436  Ord_00437 2025-11-28      Tablet  Electronics  North       Premium   \n",
      "452  Ord_00453 2025-08-03  Headphones  Electronics  North       Premium   \n",
      "506  Ord_00507 2024-11-06      Laptop  Electronics  North       Premium   \n",
      "524  Ord_00525 2023-09-13       Mouse        Audio  North       Premium   \n",
      "534  Ord_00535 2025-12-24       Phone  Accessories  North       Premium   \n",
      "539  Ord_00540 2023-03-04       Phone  Electronics  North       Premium   \n",
      "544  Ord_00545 2024-05-25     Monitor  Electronics  North       Premium   \n",
      "545  Ord_00546 2024-01-20      Laptop  Electronics  North       Premium   \n",
      "546  Ord_00547 2024-02-09       Mouse  Electronics  North       Premium   \n",
      "571  Ord_00572 2024-03-13     Monitor        Audio  North       Premium   \n",
      "630  Ord_00631 2025-12-10  Headphones  Electronics  North       Premium   \n",
      "635  Ord_00636 2025-04-17     Speaker        Audio  North       Premium   \n",
      "641  Ord_00642 2024-06-29     Monitor  Electronics  North       Premium   \n",
      "662  Ord_00663 2024-12-26     Monitor  Accessories  North       Premium   \n",
      "676  Ord_00677 2023-12-29      Laptop        Audio  North       Premium   \n",
      "715  Ord_00716 2024-06-26  Headphones  Electronics  North       Premium   \n",
      "728  Ord_00729 2025-08-04     Speaker  Accessories  North       Premium   \n",
      "750  Ord_00751 2025-06-20       Phone        Audio  North       Premium   \n",
      "752  Ord_00753 2023-01-10      Tablet        Audio  North       Premium   \n",
      "788  Ord_00789 2023-05-23     Speaker  Accessories  North       Premium   \n",
      "805  Ord_00806 2023-06-06      Laptop  Accessories  North       Premium   \n",
      "814  Ord_00815 2025-05-14  Headphones  Electronics  North       Premium   \n",
      "837  Ord_00838 2023-10-29       Mouse  Accessories  North       Premium   \n",
      "843  Ord_00844 2025-09-11     Monitor  Accessories  North       Premium   \n",
      "845  Ord_00846 2025-04-07      Tablet        Audio  North       Premium   \n",
      "866  Ord_00867 2024-10-22     Monitor  Electronics  North       Premium   \n",
      "887  Ord_00888 2024-12-10  Headphones  Electronics  North       Premium   \n",
      "916  Ord_00917 2023-01-18  Headphones  Electronics  North       Premium   \n",
      "940  Ord_00941 2025-01-30       Mouse  Electronics  North       Premium   \n",
      "\n",
      "     Quantity  unit_price Sales_rep  Discount  total_sales  month  year  \n",
      "13          8        1302    Rep_14         0     10415.00      8  2025  \n",
      "64          6        1158    Rep_13         0      6947.00     12  2023  \n",
      "98          8        1412    Rep_11         5     11295.05     11  2024  \n",
      "116         8         224    Rep_12         0      1791.00     10  2025  \n",
      "181         6         228    Rep_03        20      1367.20      5  2023  \n",
      "241         6         936    Rep_12         5      5615.05      1  2023  \n",
      "252         9         748    Rep_02         0      6731.00      8  2024  \n",
      "307         9        1536    Rep_20         5     13823.05      1  2023  \n",
      "332         9         158    Rep_20        20      1421.20      7  2024  \n",
      "356         6        1404    Rep_19         0      8423.00     12  2023  \n",
      "363         7         883    Rep_18        10      6180.10     10  2025  \n",
      "424         8        1083    Rep_02         5      8663.05      3  2024  \n",
      "436         7         240    Rep_07         0      1679.00     11  2025  \n",
      "452         9         837    Rep_18        20      7532.20      8  2025  \n",
      "506         6         784    Rep_16        20      4703.20     11  2024  \n",
      "524         8        1780    Rep_16         0     14239.00      9  2023  \n",
      "534         8        1799    Rep_14        15     14391.15     12  2025  \n",
      "539         8        1440    Rep_19         5     11519.05      3  2023  \n",
      "544         8        1434    Rep_04         0     11471.00      5  2024  \n",
      "545         7         373    Rep_02         0      2610.00      1  2024  \n",
      "546         8        1088    Rep_02         0      8703.00      2  2024  \n",
      "571         8         644    Rep_19        20      5151.20      3  2024  \n",
      "630         9        1385    Rep_02         5     12464.05     12  2025  \n",
      "635         8        1831    Rep_07        10     14647.10      4  2025  \n",
      "641         8        1804    Rep_08         0     14431.00      6  2024  \n",
      "662         9        1633    Rep_01         5     14696.05     12  2024  \n",
      "676         6        1168    Rep_15         0      7007.00     12  2023  \n",
      "715         7         128    Rep_12        20       895.20      6  2024  \n",
      "728         7          63    Rep_12        10       440.10      8  2025  \n",
      "750         6        1201    Rep_03        10      7205.10      6  2025  \n",
      "752         6         988    Rep_19         5      5927.05      1  2023  \n",
      "788         6         206    Rep_06        10      1235.10      5  2023  \n",
      "805         8        1756    Rep_03         5     14047.05      6  2023  \n",
      "814         6        1773    Rep_12        10     10637.10      5  2025  \n",
      "837         9        1152    Rep_06        10     10367.10     10  2023  \n",
      "843         7         811    Rep_12         0      5676.00      9  2025  \n",
      "845         8         875    Rep_07        15      6999.15      4  2025  \n",
      "866         7         523    Rep_18         0      3660.00     10  2024  \n",
      "887         7        1504    Rep_13        15     10527.15     12  2024  \n",
      "916         6         520    Rep_15         0      3119.00      1  2023  \n",
      "940         9        1601    Rep_04        15     14408.15      1  2025  \n"
     ]
    }
   ],
   "source": [
    "import pandas as pd\n",
    "\n",
    "import numpy as np\n",
    "\n",
    "from datetime import datetime, timedelta\n",
    "\n",
    "np.random.seed(42)\n",
    "\n",
    "n_recors=1000\n",
    "\n",
    "dates=pd.date_range('2023-01-01', '2026-01-01', freq='D')\n",
    "#print(dates)\n",
    "products = ['Laptop', 'Phone', 'Tablet', 'Headphones', 'Monitor', 'Keyboard', 'Mouse', 'Speaker']\n",
    "categories = ['Electronics', 'Electronics', 'Electronics', 'Audio', 'Electronics', 'Accessories', 'Accessories', 'Audio']\n",
    "regions = ['North', 'South', 'East', 'West', 'Central']\n",
    "customers = ['Premium', 'Standard', 'Basic']\n",
    "\n",
    "\n",
    "\n",
    "\n",
    "data={\n",
    "    'Order_id':[f'Ord_{i:05d}' for i in range(1, n_recors+1)],\n",
    "    'Date': np.random.choice(dates, n_recors),\n",
    "    'Product': np.random.choice(products, n_recors),\n",
    "    'Category': np.random.choice(categories, n_recors),\n",
    "    'Region': np.random.choice(regions, n_recors),\n",
    "    'Customer_Type': np.random.choice(customers, n_recors),\n",
    "    'Quantity': np.random.randint(1, 10, n_recors),\n",
    "    'unit_price': np.random.randint(50, 2000, n_recors),\n",
    "    'Sales_rep':[f'Rep_{np.random.randint(1, 21):02d}' for _ in range(n_recors)],\n",
    "    'Discount': np.random.choice([0, 5,10,15,20], n_recors, p=[0.4, 0.2, 0.2, 0.1, 0.1]),\n",
    "\n",
    "}\n",
    "\n",
    "\n",
    "df=pd.DataFrame(data)\n",
    "#print(df.describe())\n",
    "\n",
    "df['total_sales']=df['Quantity'] * df['unit_price'] - (1-df['Discount']/100)\n",
    "#print(df['total_sales'])\n",
    "\n",
    "df['month']=df['Date'].dt.month\n",
    "\n",
    "df['year']=df['Date'].dt.year\n",
    "\n",
    "#print(df.head())\n",
    "\n",
    "ordermoreThan5000 = df[df['total_sales'] > 5000]\n",
    "\n",
    "#print(len(ordermoreThan5000))\n",
    "print(\"Task: Find Premium customers in North region with Quantity > 5\")\n",
    "\n",
    "excerise2=df[ (df['Customer_Type']=='Premium') & (df['Region']=='North') & (df['Quantity'] > 5)]\n",
    "print(excerise2)\n",
    "\n",
    "df=df.sort_values(by=['total_sales'], ascending=True)\n"
   ]
  },
  {
   "cell_type": "code",
   "execution_count": null,
   "id": "685a6f2c",
   "metadata": {},
   "outputs": [
    {
     "name": "stdout",
     "output_type": "stream",
     "text": [
      "Task: Find all products containing 'Phone' in their name\n",
      "        total_sales                   \n",
      "                sum         mean count\n",
      "Region                                \n",
      "Central  1079233.20  5369.319403   201\n",
      "East     1030983.75  5053.841912   204\n",
      "North    1156562.70  5507.441429   210\n",
      "South     913639.30  5438.329167   168\n",
      "West     1137287.60  5240.956682   217\n"
     ]
    }
   ],
   "source": [
    "print(\"Task: Find all products containing 'Phone' in their name\")\n",
    "\n",
    "avg=df.groupby('Region').agg({'total_sales':['sum', 'mean','min',  'count']})\n",
    "print(avg)"
   ]
  },
  {
   "cell_type": "code",
   "execution_count": 120,
   "id": "8e8427dd",
   "metadata": {},
   "outputs": [
    {
     "name": "stdout",
     "output_type": "stream",
     "text": [
      "                      total_sales\n",
      "                              sum\n",
      "Region  Customer_Type            \n",
      "Central Basic           333503.15\n",
      "        Premium         406056.60\n",
      "        Standard        339673.45\n",
      "East    Basic           362280.85\n",
      "        Premium         312127.80\n",
      "        Standard        356575.10\n",
      "North   Basic           403539.80\n",
      "        Premium         428936.10\n",
      "        Standard        324086.80\n",
      "South   Basic           323915.60\n",
      "        Premium         287820.70\n",
      "        Standard        301903.00\n",
      "West    Basic           398539.60\n",
      "        Premium         379800.05\n",
      "        Standard        358947.95\n",
      "Customer_Type  Region \n",
      "Basic          Central    333503.15\n",
      "               East       362280.85\n",
      "               North      403539.80\n",
      "               South      323915.60\n",
      "               West       398539.60\n",
      "Premium        Central    406056.60\n",
      "               East       312127.80\n",
      "               North      428936.10\n",
      "               South      287820.70\n",
      "               West       379800.05\n",
      "Standard       Central    339673.45\n",
      "               East       356575.10\n",
      "               North      324086.80\n",
      "               South      301903.00\n",
      "               West       358947.95\n",
      "Name: total_sales, dtype: float64\n"
     ]
    }
   ],
   "source": [
    "total=df.groupby(['Region', 'Customer_Type']).agg({'total_sales':['sum']})\n",
    "print(total)\n",
    "\n",
    "customer_region_sales = df.groupby(['Customer_Type', 'Region'])['total_sales'].sum()\n",
    "\n",
    "print(customer_region_sales)\n"
   ]
  },
  {
   "cell_type": "code",
   "execution_count": 123,
   "id": "be460963",
   "metadata": {},
   "outputs": [
    {
     "name": "stdout",
     "output_type": "stream",
     "text": [
      "            total_sales                    Quantity Order_id\n",
      "                    sum         mean count      sum    count\n",
      "Category                                                    \n",
      "Accessories  1349258.05  5418.707028   249     1343      249\n",
      "Audio        1406070.25  5449.884690   258     1276      258\n",
      "Electronics  2562378.25  5197.521805   493     2433      493\n"
     ]
    }
   ],
   "source": [
    "exercise12=df.groupby('Category').agg({'total_sales':['sum', 'mean', 'count'],\n",
    "                            'Quantity':'sum',\n",
    "                            'Order_id':'count'})\n",
    "print(exercise12)"
   ]
  },
  {
   "cell_type": "code",
   "execution_count": 128,
   "id": "8d73465c",
   "metadata": {},
   "outputs": [
    {
     "name": "stdout",
     "output_type": "stream",
     "text": [
      "(12,)\n"
     ]
    }
   ],
   "source": [
    "filtered=df[df['year'] == 2024].sort_values(by='Date', ascending=True).groupby('month')['total_sales'].sum()\n",
    "#print(filtered)\n",
    "print(filtered.shape)\n"
   ]
  },
  {
   "cell_type": "code",
   "execution_count": null,
   "id": "9a204f42",
   "metadata": {},
   "outputs": [],
   "source": [
    "df.groupby('Region')"
   ]
  }
 ],
 "metadata": {
  "kernelspec": {
   "display_name": "base",
   "language": "python",
   "name": "python3"
  },
  "language_info": {
   "codemirror_mode": {
    "name": "ipython",
    "version": 3
   },
   "file_extension": ".py",
   "mimetype": "text/x-python",
   "name": "python",
   "nbconvert_exporter": "python",
   "pygments_lexer": "ipython3",
   "version": "3.12.7"
  }
 },
 "nbformat": 4,
 "nbformat_minor": 5
}
