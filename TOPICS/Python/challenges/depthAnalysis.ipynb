{
 "cells": [
  {
   "cell_type": "code",
   "execution_count": 10,
   "id": "724800c3",
   "metadata": {},
   "outputs": [
    {
     "name": "stdout",
     "output_type": "stream",
     "text": [
      "Hello World\n"
     ]
    }
   ],
   "source": [
    "print('Hello', end=' ')\n",
    "print('World')"
   ]
  },
  {
   "cell_type": "code",
   "execution_count": 2,
   "id": "5186b257",
   "metadata": {},
   "outputs": [
    {
     "name": "stdout",
     "output_type": "stream",
     "text": [
      "You entered:  ['ranjith', 'rachana']\n",
      "Your family names are:  ['ranjith', 'rachana']\n"
     ]
    }
   ],
   "source": [
    "my_family_names=[]\n",
    "\n",
    "name=input('Enter Names with space delimiter (or type \"exit\" to finish): ')\n",
    "names=name.split(' ')\n",
    "print('You entered: ', names)\n",
    "for name in names:\n",
    "    if name.lower() == 'exit':\n",
    "        break\n",
    "    my_family_names.append(name)\n",
    "\n",
    "print('Your family names are: ', my_family_names)"
   ]
  },
  {
   "cell_type": "code",
   "execution_count": 17,
   "id": "7b9c53e4",
   "metadata": {},
   "outputs": [
    {
     "name": "stdout",
     "output_type": "stream",
     "text": [
      "Index :  0 ,  Value: ranjith\n",
      "Index :  1 ,  Value: karthik\n",
      "Index :  2 ,  Value: siva\n",
      "Index :  3 ,  Value: sai\n",
      "karthik\n",
      "siva\n",
      "sai\n",
      "sai\n",
      "siva\n",
      "sai\n"
     ]
    }
   ],
   "source": [
    "import random\n",
    "\n",
    "mylist=['ranjith', 'karthik', 'siva', 'sai']\n",
    "for index, value in enumerate(mylist):\n",
    "    print(f'Index :  {index} ,  Value: {value}')\n",
    "print(random.choice(mylist))\n",
    "print(random.choice(mylist))\n",
    "print(random.choice(mylist))\n",
    "print(random.choice(mylist))\n",
    "print(random.choice(mylist))\n",
    "print(random.choice(mylist))"
   ]
  },
  {
   "cell_type": "code",
   "execution_count": null,
   "id": "0daaf0f0",
   "metadata": {},
   "outputs": [],
   "source": []
  },
  {
   "cell_type": "code",
   "execution_count": 19,
   "id": "09036b59",
   "metadata": {},
   "outputs": [
    {
     "name": "stdout",
     "output_type": "stream",
     "text": [
      "Zophie and it is : cat\n"
     ]
    }
   ],
   "source": [
    "name = 'Zophie a cat'\n",
    "print(f'{name[0: 6]} and it is : {name[9:12]}')\n"
   ]
  },
  {
   "cell_type": "code",
   "execution_count": null,
   "id": "48ef4d10",
   "metadata": {},
   "outputs": [
    {
     "name": "stdout",
     "output_type": "stream",
     "text": [
      "<class 'pandas.core.frame.DataFrame'>\n",
      "RangeIndex: 4 entries, 0 to 3\n",
      "Data columns (total 4 columns):\n",
      " #   Column      Non-Null Count  Dtype  \n",
      "---  ------      --------------  -----  \n",
      " 0   ID          3 non-null      float64\n",
      " 1   NAME        3 non-null      object \n",
      " 2   DEPARTMENT  3 non-null      object \n",
      " 3   SALARY      3 non-null      float64\n",
      "dtypes: float64(2), object(2)\n",
      "memory usage: 260.0+ bytes\n",
      "None\n",
      "        ID        SALARY\n",
      "count  3.0      3.000000\n",
      "mean   2.0  74333.333333\n",
      "std    1.0   6027.713773\n",
      "min    1.0  68000.000000\n",
      "25%    1.5  71500.000000\n",
      "50%    2.0  75000.000000\n",
      "75%    2.5  77500.000000\n",
      "max    3.0  80000.000000\n",
      "(4, 4)\n"
     ]
    }
   ],
   "source": [
    "import pandas as pd\n",
    "\n",
    "df=pd.read_csv('../employees.csv', sep='|', na_values=['NA', 'N/A', 'None', ''])\n",
    "df.dropna()\n",
    "print(df.info())\n",
    "print(df.describe())\n",
    "print(df.shape)\n",
    "\n"
   ]
  },
  {
   "cell_type": "code",
   "execution_count": 48,
   "id": "66131d78",
   "metadata": {},
   "outputs": [
    {
     "name": "stdout",
     "output_type": "stream",
     "text": [
      "    ID        NAME   DEPARTMENT   SALARY\n",
      "0  1.0  John Smith  Engineering  68000.0\n",
      "1  2.0    Sara Lee    Marketing  68000.0\n",
      "2  3.0  David Chen        Sales  68000.0\n",
      "3  NaN         NaN          NaN      NaN\n",
      "<class 'pandas.core.series.Series'>\n"
     ]
    }
   ],
   "source": [
    "import pandas as pd\n",
    "\n",
    "df=pd.read_csv('../employees.csv', sep='|', na_values=['NA', 'N/A', 'None', ''])\n",
    "print(df)\n",
    "salaries=df['SALARY']\n",
    "print(type(salaries.value_counts()))"
   ]
  },
  {
   "cell_type": "code",
   "execution_count": 71,
   "id": "28bc5f64",
   "metadata": {},
   "outputs": [
    {
     "name": "stdout",
     "output_type": "stream",
     "text": [
      "    PassengerId  Survived  Pclass  \\\n",
      "10           11         1       3   \n",
      "12           13         0       3   \n",
      "23           24         1       1   \n",
      "31           32         1       1   \n",
      "48           49         0       3   \n",
      "\n",
      "                                              Name     Sex   Age  SibSp  \\\n",
      "10                 Sandstrom, Miss. Marguerite Rut  female   4.0      1   \n",
      "12                  Saundercock, Mr. William Henry    male  20.0      0   \n",
      "23                    Sloper, Mr. William Thompson    male  28.0      0   \n",
      "31  Spencer, Mrs. William Augustus (Marie Eugenie)  female   NaN      1   \n",
      "48                             Samaan, Mr. Youssef    male   NaN      2   \n",
      "\n",
      "    Parch     Ticket      Fare Cabin Embarked  \n",
      "10      1    PP 9549   16.7000    G6        S  \n",
      "12      0  A/5. 2151    8.0500   NaN        S  \n",
      "23      0     113788   35.5000    A6        S  \n",
      "31      0   PC 17569  146.5208   B78        C  \n",
      "48      0       2662   21.6792   NaN        C  \n",
      "PassengerId    86\n",
      "Survived       86\n",
      "Pclass         86\n",
      "Name           86\n",
      "Sex            86\n",
      "Age            61\n",
      "SibSp          86\n",
      "Parch          86\n",
      "Ticket         86\n",
      "Fare           86\n",
      "Cabin          23\n",
      "Embarked       85\n",
      "dtype: int64\n"
     ]
    }
   ],
   "source": [
    "import pandas as pd\n",
    "\n",
    "df=pd.read_csv('../titanic.csv', sep=',', na_values=['NA', 'N/A', 'None', ''])\n",
    "\n",
    "#print(df.head())\n",
    "#print(df.describe())\n",
    "\n",
    "#adults=df[df['Age']> 50]\n",
    "#print(adults.head())\n",
    "#print((adults.describe()))\n",
    "#male=df[ (df['Sex']=='male') | (df['Pclass']==1) ]\n",
    "#print(male.head())\n",
    "#print(male.count())\n",
    "#print(type(adults.describe().count))\n",
    "\n",
    "startsWithS=df[df['Name'].str.startswith('S')]\n",
    "\n",
    "print(startsWithS.head())\n",
    "print(startsWithS.count())\n",
    "\n"
   ]
  },
  {
   "cell_type": "code",
   "execution_count": 79,
   "id": "68847181",
   "metadata": {},
   "outputs": [
    {
     "name": "stdout",
     "output_type": "stream",
     "text": [
      "     PassengerId  Survived  Pclass                                      Name  \\\n",
      "630          631         1       1      Barkworth, Mr. Algernon Henry Wilson   \n",
      "851          852         0       3                       Svensson, Mr. Johan   \n",
      "493          494         0       1                   Artagaveytia, Mr. Ramon   \n",
      "96            97         0       1                 Goldschmidt, Mr. George B   \n",
      "116          117         0       3                      Connors, Mr. Patrick   \n",
      "..           ...       ...     ...                                       ...   \n",
      "859          860         0       3                          Razi, Mr. Raihed   \n",
      "863          864         0       3         Sage, Miss. Dorothy Edith \"Dolly\"   \n",
      "868          869         0       3               van Melkebeke, Mr. Philemon   \n",
      "878          879         0       3                        Laleff, Mr. Kristo   \n",
      "888          889         0       3  Johnston, Miss. Catherine Helen \"Carrie\"   \n",
      "\n",
      "        Sex   Age  SibSp  Parch      Ticket     Fare Cabin Embarked  \n",
      "630    male  80.0      0      0       27042  30.0000   A23        S  \n",
      "851    male  74.0      0      0      347060   7.7750   NaN        S  \n",
      "493    male  71.0      0      0    PC 17609  49.5042   NaN        C  \n",
      "96     male  71.0      0      0    PC 17754  34.6542    A5        C  \n",
      "116    male  70.5      0      0      370369   7.7500   NaN        Q  \n",
      "..      ...   ...    ...    ...         ...      ...   ...      ...  \n",
      "859    male   NaN      0      0        2629   7.2292   NaN        C  \n",
      "863  female   NaN      8      2    CA. 2343  69.5500   NaN        S  \n",
      "868    male   NaN      0      0      345777   9.5000   NaN        S  \n",
      "878    male   NaN      0      0      349217   7.8958   NaN        S  \n",
      "888  female   NaN      1      2  W./C. 6607  23.4500   NaN        S  \n",
      "\n",
      "[891 rows x 12 columns]\n"
     ]
    }
   ],
   "source": [
    "import pandas as pd\n",
    "\n",
    "df=pd.read_csv('../titanic.csv', sep=',', na_values=['NA', 'N/A', 'None', ''])\n",
    "\n",
    "sorted_df=df.sort_values(by=['Age'], ascending=[False])\n",
    "print(sorted_df)"
   ]
  },
  {
   "cell_type": "code",
   "execution_count": 83,
   "id": "9fe78c02",
   "metadata": {},
   "outputs": [],
   "source": [
    "import pandas as pd\n",
    "\n",
    "df=pd.read_csv('../titanic.csv', sep=',', na_values=['NA', 'N/A', 'None', ''])\n",
    "\n",
    "sorted_df=df.sort_index()"
   ]
  }
 ],
 "metadata": {
  "kernelspec": {
   "display_name": "base",
   "language": "python",
   "name": "python3"
  },
  "language_info": {
   "codemirror_mode": {
    "name": "ipython",
    "version": 3
   },
   "file_extension": ".py",
   "mimetype": "text/x-python",
   "name": "python",
   "nbconvert_exporter": "python",
   "pygments_lexer": "ipython3",
   "version": "3.12.7"
  }
 },
 "nbformat": 4,
 "nbformat_minor": 5
}
